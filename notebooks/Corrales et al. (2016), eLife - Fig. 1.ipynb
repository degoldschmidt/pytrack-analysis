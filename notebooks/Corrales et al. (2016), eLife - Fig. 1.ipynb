{
 "cells": [
  {
   "cell_type": "markdown",
   "metadata": {
    "slideshow": {
     "slide_type": "slide"
    }
   },
   "source": [
    "# Corrales et al. (2016), *eLife* - Fig. 1"
   ]
  },
  {
   "cell_type": "markdown",
   "metadata": {
    "slideshow": {
     "slide_type": "slide"
    }
   },
   "source": [
    "## Getting started\n"
   ]
  },
  {
   "cell_type": "markdown",
   "metadata": {
    "slideshow": {
     "slide_type": "subslide"
    }
   },
   "source": [
    "* Install pytrack-analysis"
   ]
  },
  {
   "cell_type": "markdown",
   "metadata": {
    "slideshow": {
     "slide_type": "subslide"
    }
   },
   "source": [
    "## Outline\n",
    "\n",
    "1. [File system operations](#section1)\n",
    "  1. [Setting up a profile](#section1.1)\n",
    "  2. [Loading the database](#section1.2)\n",
    "  3. [Logging](#section1.3)\n",
    "<br><br>\n",
    "2. [Data Exploration](#section2)\n",
    "  1. [Find session for Figure 1C & D](#section2.1)\n",
    "  2. [Exploring two candidates](#section2.2)\n",
    "  3. [Identifying the winner](#section2.3)\n",
    "<br><br>\n",
    "3. [Data Analysis](#section3)\n",
    "  1. [Loading raw data and meta data](#section3.1)\n",
    "  2. [Preprocessing](#section3.2)\n",
    "  3. [Distance from patch](#section3.3)\n",
    "  4. [Linear speeds](#section3.4)\n",
    "  5. [Angular heading & speed](#section3.5)\n",
    "  6. [Ethogram](#section3.6)\n",
    "  7. [Visits](#section3.7)\n",
    "  8. [Loading ethogram data from multiple sessions](#section3.8) \n",
    "  9. [Durations of behavioral segments](#section3.9)\n",
    "<br><br>\n",
    "4. [Data Visualization](#section4)\n",
    "  1. [Introduction](#section4.1)\n",
    "  2. [Data hooks & other helpers](#section4.2)\n",
    "  3. [Figure 1C](#section4.3)\n",
    "  4. [Figure 1D](#section4.4)\n",
    "  5. [Figure 1E](#section4.5)\n",
    "  6. [Figure 1F](#section4.6)\n",
    "  7. [Figure 1G](#section4.7)\n",
    "  8. [Figure 1H](#section4.8)\n",
    "<br><br>\n",
    "5. [Closing remarks](#section4)"
   ]
  },
  {
   "cell_type": "code",
   "execution_count": 1,
   "metadata": {
    "ExecuteTime": {
     "end_time": "2017-10-04T08:20:09.970353",
     "start_time": "2017-10-04T08:20:05.003814Z"
    },
    "collapsed": false,
    "slideshow": {
     "slide_type": "subslide"
    }
   },
   "outputs": [
    {
     "name": "stdout",
     "output_type": "stream",
     "text": [
      "3.6.1 (default, Apr  4 2017, 09:40:51) \n",
      "[GCC 4.2.1 Compatible Apple LLVM 8.0.0 (clang-800.0.42.1)]\n"
     ]
    }
   ],
   "source": [
    "import sys\n",
    "print(sys.version)\n",
    "from pytrack_analysis.profile import *\n",
    "from pytrack_analysis.database import *\n",
    "from pytrack_analysis.logger import Logger\n",
    "import pytrack_analysis.preprocessing as prep\n",
    "from pytrack_analysis.kinematics import Kinematics\n",
    "from pytrack_analysis.statistics import Statistics"
   ]
  },
  {
   "cell_type": "markdown",
   "metadata": {
    "slideshow": {
     "slide_type": "slide"
    }
   },
   "source": [
    "<a id='section1'></a>\n",
    "## 1. File system operations"
   ]
  },
  {
   "cell_type": "markdown",
   "metadata": {
    "slideshow": {
     "slide_type": "slide"
    }
   },
   "source": [
    "<a id='section1.1'></a>\n",
    "### A) Setting up a profile"
   ]
  },
  {
   "cell_type": "code",
   "execution_count": 2,
   "metadata": {
    "ExecuteTime": {
     "end_time": "2017-10-04T08:20:10.425348",
     "start_time": "2017-10-04T08:20:09.974740Z"
    },
    "collapsed": false,
    "slideshow": {
     "slide_type": "fragment"
    }
   },
   "outputs": [
    {
     "name": "stdout",
     "output_type": "stream",
     "text": [
      "***\n",
      "Loading [PROJECT] Notebook - Vero eLife 2016\n",
      "\n",
      "\n",
      "\u001b[1;31m\u001b[1;31m$PROJECTS:\n",
      "\u001b[1;36m- Vero eLife 2016\n",
      "\u001b[1;36m- Notebook - Vero eLife 2016\n",
      "\u001b[1;31m$USERS:\n",
      "\u001b[1;36m- degoldschmidt\n",
      "\n",
      "\u001b[1;35mNotebook - Vero eLife 2016:\n",
      "\u001b[0;0m  created: '2017-08-11 11:37:03'\n",
      "\u001b[0;0m  last active: '2017-10-04 09:20:10'\n",
      "\u001b[0;0m  systems:\n",
      "\n",
      "\u001b[1;35m    MacBook-Pro-3_x86_64_degoldschmidt:\n",
      "\u001b[0;0m      database: /Users/degoldschmidt/Google Drive/PhD Project/Archive/VERO/vero_elife_2016/vero_elife_2016.yaml\n",
      "\u001b[0;0m      log: /Users/degoldschmidt/Google Drive/PhD Project/Archive/VERO/vero_elife_2016_processing/main.log\n",
      "\u001b[0;0m      os: posix\n",
      "\u001b[0;0m      output: /Users/degoldschmidt/Google Drive/PhD Project/Archive/VERO/vero_elife_2016_processing\n",
      "\u001b[0;0m      plot: /Users/degoldschmidt/Google Drive/PhD Project/Archive/VERO/vero_elife_2016_processing/plots\n",
      "\u001b[0;0m      python: \"3.6.1 (default, Apr  4 2017, 09:40:51) \\n[GCC 4.2.1 Compatible Apple\\\n",
      "\u001b[0;0m        \\ LLVM 8.0.0 (clang-800.0.42.1)]\"\n",
      "\u001b[0;0m      videos: /Users/degoldschmidt/Google Drive/PhD Project/Archive/VERO\n",
      "\u001b[0;0m    VERO-PC:\n",
      "\u001b[0;0m      database: E:/Dennis/Google Drive/PhD Project/Archive/VERO/vero_elife_2016/vero_elife_2016.yaml\n",
      "\u001b[0;0m      log: E:/Dennis/Google Drive/PhD Project/Archive/VERO/vero_elife_2016_processing\\main.log\n",
      "\u001b[0;0m      os: Windows_NT\n",
      "\u001b[0;0m      output: E:/Dennis/Google Drive/PhD Project/Archive/VERO/vero_elife_2016_processing\n",
      "\u001b[0;0m      plot: E:/Dennis/Google Drive/PhD Project/Archive/VERO/vero_elife_2016_processing\\plots\n",
      "\u001b[0;0m      python: 3.6.2 (v3.6.2:5fd33b5, Jul  8 2017, 04:57:36) [MSC v.1900 64 bit (AMD64)]\n",
      "\u001b[0;0m      videos: E:/Dennis/Google Drive/PhD Project/Archive/VERO/Example Videos\n",
      "\u001b[0;0m  users:\n",
      "\u001b[0;0m  - degoldschmidt\n",
      "\u001b[0;0mVero eLife 2016:\n",
      "\u001b[0;0m  created: '2017-07-14 20:28:00'\n",
      "\u001b[0;0m  last active: '2017-09-23 19:04:20'\n",
      "\u001b[0;0m  systems:\n",
      "\u001b[0;0m    MacBook-Pro-3.local_degoldschmidt:\n",
      "\u001b[0;0m      database: /Users/degoldschmidt/Google Drive/PhD Project/Archive/VERO/vero_elife_2016/vero_elife_2016.txt\n",
      "\u001b[0;0m      log: /Users/degoldschmidt/Google Drive/PhD Project/Archive/VERO/vero_elife_2016_processing/main.log\n",
      "\u001b[0;0m      os: posix\n",
      "\u001b[0;0m      output: /Users/degoldschmidt/Google Drive/PhD Project/Archive/VERO/vero_elife_2016_processing\n",
      "\u001b[0;0m      plot: /Users/degoldschmidt/Google Drive/PhD Project/Archive/VERO/vero_elife_2016_processing/plots\n",
      "\u001b[0;0m      python: \"3.6.1 (default, Apr  4 2017, 09:40:51) \\n[GCC 4.2.1 Compatible Apple\\\n",
      "\u001b[0;0m        \\ LLVM 8.0.0 (clang-800.0.42.1)]\"\n",
      "\u001b[0;0m      videos: /Users/degoldschmidt/Google Drive/PhD Project/Archive/VERO/Example Videos\n",
      "\n",
      "\u001b[1;35m    MacBook-Pro-3_x86_64_degoldschmidt:\n",
      "\u001b[0;0m      database: /Users/degoldschmidt/Google Drive/PhD Project/Archive/VERO/vero_elife_2016/vero_elife_2016.yaml\n",
      "\u001b[0;0m      log: /Users/degoldschmidt/Google Drive/PhD Project/Archive/VERO/vero_elife_2016_processing/main.log\n",
      "\u001b[0;0m      os: posix\n",
      "\u001b[0;0m      output: /Users/degoldschmidt/Google Drive/PhD Project/Archive/VERO/vero_elife_2016_processing\n",
      "\u001b[0;0m      plot: /Users/degoldschmidt/Google Drive/PhD Project/Archive/VERO/vero_elife_2016_processing/plots\n",
      "\u001b[0;0m      python: \"3.6.1 (default, Apr  4 2017, 09:40:51) \\n[GCC 4.2.1 Compatible Apple\\\n",
      "\u001b[0;0m        \\ LLVM 8.0.0 (clang-800.0.42.1)]\"\n",
      "\u001b[0;0m      videos: /Users/degoldschmidt/Google Drive/PhD Project/Archive/VERO/vero_elife_2016\n",
      "\u001b[0;0m    VERO-PC:\n",
      "\u001b[0;0m      database: E:/Dennis/Google Drive/PhD Project/Archive/VERO/vero_elife_2016/vero_elife_2016.yaml\n",
      "\u001b[0;0m      log: E:/Dennis/Google Drive/PhD Project/Archive/VERO/vero_elife_2016_processing\\main.log\n",
      "\u001b[0;0m      os: Windows_NT\n",
      "\u001b[0;0m      output: E:/Dennis/Google Drive/PhD Project/Archive/VERO/vero_elife_2016_processing\n",
      "\u001b[0;0m      plot: E:/Dennis/Google Drive/PhD Project/Archive/VERO/vero_elife_2016_processing\\plots\n",
      "\u001b[0;0m      python: 3.6.2 (v3.6.2:5fd33b5, Jul  8 2017, 04:57:36) [MSC v.1900 64 bit (AMD64)]\n",
      "\u001b[0;0m      videos: E:/Dennis/Google Drive/PhD Project/Archive/VERO/Example Videos\n",
      "\u001b[0;0m  users:\n",
      "\u001b[0;0m  - degoldschmidt\n",
      "\u001b[0;0mactive: Notebook - Vero eLife 2016\n",
      "\u001b[0;0mactivesys: MacBook-Pro-3_x86_64_degoldschmidt\n",
      "\u001b[0;0mactiveuser: degoldschmidt\n",
      "\u001b[0;0m\n",
      "\u001b[0;0m"
     ]
    }
   ],
   "source": [
    "### Setting up a profile\n",
    "\n",
    "# import os module to interact with filesystem\n",
    "import os\n",
    "# get filename of this script\n",
    "thisscript = \"Notebook Fig. 1\"\n",
    "# get profile for project 'Vero eLife 2016' as user 'degoldschmidt'\n",
    "profile = get_profile('Notebook - Vero eLife 2016', 'degoldschmidt', script=thisscript)\n",
    "# show the profile\n",
    "show_profile(profile)"
   ]
  },
  {
   "cell_type": "markdown",
   "metadata": {
    "slideshow": {
     "slide_type": "slide"
    }
   },
   "source": [
    "<a id='section1.2'></a>\n",
    "### B) Loading the database\n",
    "\n",
    "Now, we want to load our database. The database class allows us to load file structure "
   ]
  },
  {
   "cell_type": "code",
   "execution_count": 3,
   "metadata": {
    "ExecuteTime": {
     "end_time": "2017-10-04T08:20:18.151903",
     "start_time": "2017-10-04T08:20:17.725814Z"
    },
    "collapsed": false,
    "slideshow": {
     "slide_type": "subslide"
    }
   },
   "outputs": [
    {
     "name": "stdout",
     "output_type": "stream",
     "text": [
      "STARTING DATA INTEGRITY TEST...\n",
      "-------------------------------\n",
      "CHECKING DATABASE...\t\t\t[O.K.]\n",
      "CHECKING METAFILES...\t\t\t[O.K.]\n",
      "CHECKING DATAFILES...\t\t\t[O.K.]\n",
      "CHECKING TIMESTAMPS...\t\t\t[O.K.]\n",
      "\n",
      "[DONE]\n",
      "***\n",
      "\n"
     ]
    }
   ],
   "source": [
    "# get database from file\n",
    "db = Database(get_db(profile))"
   ]
  },
  {
   "cell_type": "markdown",
   "metadata": {
    "slideshow": {
     "slide_type": "slide"
    }
   },
   "source": [
    "<a id='section1.3'></a>\n",
    "### C) Logging"
   ]
  },
  {
   "cell_type": "code",
   "execution_count": 4,
   "metadata": {
    "ExecuteTime": {
     "end_time": "2017-10-04T08:20:20.820433",
     "start_time": "2017-10-04T08:20:20.816579Z"
    },
    "collapsed": true,
    "slideshow": {
     "slide_type": "subslide"
    }
   },
   "outputs": [],
   "source": [
    "# set up logger for this script\n",
    "log = Logger(profile, scriptname=thisscript)"
   ]
  },
  {
   "cell_type": "markdown",
   "metadata": {
    "slideshow": {
     "slide_type": "slide"
    }
   },
   "source": [
    "<a id='section2'></a>\n",
    "## 2. Data Exploration"
   ]
  },
  {
   "cell_type": "markdown",
   "metadata": {
    "slideshow": {
     "slide_type": "slide"
    }
   },
   "source": [
    "<a id='section2.1'></a>\n",
    "### A) Find session for Figure 1C & D\n",
    "\n",
    "First, we need to find which session correspond to the data shown in Fig. 1 C and D. From the original MATLAB scripts, I found that the video file `0003A01R01Cam03.avi` was used for analysis in Fig 1 C-D. The `database` class has a function called `find` to find sessions that match a key-value relation (here: key is `Videofilename` and value is `0003A01R01Cam03.avi`).\n",
    "\n",
    "<img src=\"./img/ori-fig1d.png\" width=\"405\" height=\"410\">"
   ]
  },
  {
   "cell_type": "code",
   "execution_count": 5,
   "metadata": {
    "ExecuteTime": {
     "end_time": "2017-10-04T09:11:36.992744",
     "start_time": "2017-10-04T09:11:36.797885Z"
    },
    "collapsed": false,
    "slideshow": {
     "slide_type": "fragment"
    }
   },
   "outputs": [
    {
     "ename": "NameError",
     "evalue": "name 'genotype' is not defined",
     "output_type": "error",
     "traceback": [
      "\u001b[0;31m---------------------------------------------------------------------------\u001b[0m",
      "\u001b[0;31mNameError\u001b[0m                                 Traceback (most recent call last)",
      "\u001b[0;32m<ipython-input-5-9b04bf3e698e>\u001b[0m in \u001b[0;36m<module>\u001b[0;34m()\u001b[0m\n\u001b[1;32m      1\u001b[0m \u001b[0;31m# Print possible sessions with given video filename\u001b[0m\u001b[0;34m\u001b[0m\u001b[0;34m\u001b[0m\u001b[0m\n\u001b[0;32m----> 2\u001b[0;31m \u001b[0mpossible_sessions\u001b[0m \u001b[0;34m=\u001b[0m \u001b[0mdb\u001b[0m\u001b[0;34m.\u001b[0m\u001b[0mfind\u001b[0m\u001b[0;34m(\u001b[0m\u001b[0;34m'Videofilename=0003A01R01Cam03.avi'\u001b[0m\u001b[0;34m)\u001b[0m\u001b[0;34m\u001b[0m\u001b[0m\n\u001b[0m\u001b[1;32m      3\u001b[0m \u001b[0mprint\u001b[0m\u001b[0;34m(\u001b[0m\u001b[0mpossible_sessions\u001b[0m\u001b[0;34m)\u001b[0m\u001b[0;34m\u001b[0m\u001b[0m\n",
      "\u001b[0;32m/usr/local/lib/python3.6/site-packages/pytrack_analysis-0.0.3-py3.6.egg/pytrack_analysis/database.py\u001b[0m in \u001b[0;36mfind\u001b[0;34m(self, eqs)\u001b[0m\n\u001b[1;32m    272\u001b[0m             \u001b[0mval\u001b[0m \u001b[0;34m=\u001b[0m \u001b[0meqs\u001b[0m\u001b[0;34m.\u001b[0m\u001b[0msplit\u001b[0m\u001b[0;34m(\u001b[0m\u001b[0;34m\"=\"\u001b[0m\u001b[0;34m)\u001b[0m\u001b[0;34m[\u001b[0m\u001b[0;36m1\u001b[0m\u001b[0;34m]\u001b[0m\u001b[0;34m\u001b[0m\u001b[0m\n\u001b[1;32m    273\u001b[0m             \u001b[0mlstr\u001b[0m \u001b[0;34m=\u001b[0m \u001b[0;34m[\u001b[0m\u001b[0;34m]\u001b[0m\u001b[0;34m\u001b[0m\u001b[0m\n\u001b[0;32m--> 274\u001b[0;31m             \u001b[0;32mfor\u001b[0m \u001b[0mses\u001b[0m \u001b[0;32min\u001b[0m \u001b[0mself\u001b[0m\u001b[0;34m.\u001b[0m\u001b[0mselect\u001b[0m\u001b[0;34m(\u001b[0m\u001b[0;34m)\u001b[0m\u001b[0;34m:\u001b[0m\u001b[0;34m\u001b[0m\u001b[0m\n\u001b[0m\u001b[1;32m    275\u001b[0m                 \u001b[0;32mif\u001b[0m \u001b[0mses\u001b[0m\u001b[0;34m.\u001b[0m\u001b[0mdict\u001b[0m\u001b[0;34m[\u001b[0m\u001b[0mkey\u001b[0m\u001b[0;34m]\u001b[0m \u001b[0;34m==\u001b[0m \u001b[0mval\u001b[0m\u001b[0;34m:\u001b[0m\u001b[0;34m\u001b[0m\u001b[0m\n\u001b[1;32m    276\u001b[0m                     \u001b[0mlstr\u001b[0m\u001b[0;34m.\u001b[0m\u001b[0mappend\u001b[0m\u001b[0;34m(\u001b[0m\u001b[0mses\u001b[0m\u001b[0;34m.\u001b[0m\u001b[0mname\u001b[0m\u001b[0;34m)\u001b[0m\u001b[0;34m\u001b[0m\u001b[0m\n",
      "\u001b[0;32m/usr/local/lib/python3.6/site-packages/pytrack_analysis-0.0.3-py3.6.egg/pytrack_analysis/database.py\u001b[0m in \u001b[0;36mselect\u001b[0;34m(self, **kwargs)\u001b[0m\n\u001b[1;32m    321\u001b[0m                 \u001b[0mthis_mate\u001b[0m \u001b[0;34m=\u001b[0m \u001b[0mexp\u001b[0m\u001b[0;34m.\u001b[0m\u001b[0mint2name\u001b[0m\u001b[0;34m(\u001b[0m\u001b[0;34m\"Mating\"\u001b[0m\u001b[0;34m,\u001b[0m \u001b[0mses\u001b[0m\u001b[0;34m.\u001b[0m\u001b[0mMating\u001b[0m\u001b[0;34m)\u001b[0m\u001b[0;34m\u001b[0m\u001b[0m\n\u001b[1;32m    322\u001b[0m                 \u001b[0mthis_metab\u001b[0m \u001b[0;34m=\u001b[0m \u001b[0mexp\u001b[0m\u001b[0;34m.\u001b[0m\u001b[0mint2name\u001b[0m\u001b[0;34m(\u001b[0m\u001b[0;34m\"Metabolic\"\u001b[0m\u001b[0;34m,\u001b[0m \u001b[0mses\u001b[0m\u001b[0;34m.\u001b[0m\u001b[0mMetabolic\u001b[0m\u001b[0;34m)\u001b[0m\u001b[0;34m\u001b[0m\u001b[0m\n\u001b[0;32m--> 323\u001b[0;31m                 \u001b[0;32mif\u001b[0m \u001b[0;34m(\u001b[0m\u001b[0mthis_gen\u001b[0m \u001b[0;32min\u001b[0m \u001b[0mgenotype\u001b[0m\u001b[0;34m)\u001b[0m \u001b[0;32mor\u001b[0m \u001b[0mlen\u001b[0m\u001b[0;34m(\u001b[0m\u001b[0mgenotype\u001b[0m\u001b[0;34m)\u001b[0m \u001b[0;34m==\u001b[0m \u001b[0;36m0\u001b[0m\u001b[0;34m:\u001b[0m\u001b[0;34m\u001b[0m\u001b[0m\n\u001b[0m\u001b[1;32m    324\u001b[0m                     \u001b[0;32mif\u001b[0m \u001b[0;34m(\u001b[0m\u001b[0mthis_mate\u001b[0m \u001b[0;32min\u001b[0m \u001b[0mmating\u001b[0m\u001b[0;34m)\u001b[0m \u001b[0;32mor\u001b[0m \u001b[0mlen\u001b[0m\u001b[0;34m(\u001b[0m\u001b[0mmating\u001b[0m\u001b[0;34m)\u001b[0m \u001b[0;34m==\u001b[0m \u001b[0;36m0\u001b[0m\u001b[0;34m:\u001b[0m\u001b[0;34m\u001b[0m\u001b[0m\n\u001b[1;32m    325\u001b[0m                         \u001b[0;32mif\u001b[0m \u001b[0;34m(\u001b[0m\u001b[0mthis_metab\u001b[0m \u001b[0;32min\u001b[0m \u001b[0mmetabolic\u001b[0m\u001b[0;34m)\u001b[0m \u001b[0;32mor\u001b[0m \u001b[0mlen\u001b[0m\u001b[0;34m(\u001b[0m\u001b[0mmetabolic\u001b[0m\u001b[0;34m)\u001b[0m \u001b[0;34m==\u001b[0m \u001b[0;36m0\u001b[0m\u001b[0;34m:\u001b[0m\u001b[0;34m\u001b[0m\u001b[0m\n",
      "\u001b[0;31mNameError\u001b[0m: name 'genotype' is not defined"
     ]
    }
   ],
   "source": [
    "# Print possible sessions with given video filename \n",
    "possible_sessions = db.find('Videofilename=0003A01R01Cam03.avi')\n",
    "print(possible_sessions)"
   ]
  },
  {
   "cell_type": "markdown",
   "metadata": {},
   "source": [
    "<a id='section2.2'></a>\n",
    "### B) Exploring two candidates"
   ]
  },
  {
   "cell_type": "code",
   "execution_count": null,
   "metadata": {
    "ExecuteTime": {
     "end_time": "2017-10-04T08:18:11.301888",
     "start_time": "2017-10-04T08:17:16.907Z"
    },
    "collapsed": true,
    "slideshow": {
     "slide_type": "fragment"
    }
   },
   "outputs": [],
   "source": [
    "preview_data = []\n",
    "# Since output gives two possibilities, we want to find out more about both sessions\n",
    "for session in possible_sessions:\n",
    "    this_session = db.session(session)\n",
    "    # preview function gives subsampled raw data \n",
    "    preview_data.append(this_session.preview(subsampling=2))"
   ]
  },
  {
   "cell_type": "code",
   "execution_count": null,
   "metadata": {
    "ExecuteTime": {
     "end_time": "2017-10-04T08:18:11.303306",
     "start_time": "2017-10-04T08:17:16.920Z"
    },
    "collapsed": true,
    "slideshow": {
     "slide_type": "skip"
    }
   },
   "outputs": [],
   "source": [
    "%matplotlib inline\n",
    "import matplotlib\n",
    "import matplotlib.pyplot as plt\n",
    "import seaborn as sns \n",
    "sns.set(color_codes=True) \n",
    "sns.set_context(\"notebook\", font_scale=1.5, rc={\"lines.linewidth\": 2.5})\n",
    "sns.set_style(\"ticks\")"
   ]
  },
  {
   "cell_type": "code",
   "execution_count": null,
   "metadata": {
    "ExecuteTime": {
     "end_time": "2017-10-04T08:18:11.304780",
     "start_time": "2017-10-04T08:17:16.936Z"
    },
    "collapsed": true,
    "slideshow": {
     "slide_type": "slide"
    }
   },
   "outputs": [],
   "source": [
    "def plot_2d(_data):\n",
    "    fscale = 10\n",
    "    if len(_data) == 2:\n",
    "        fig, axes = plt.subplots(1, 2, figsize=(2*fscale,fscale))\n",
    "    elif len(_data) == 1:\n",
    "        fig, sax = plt.subplots(1, figsize=(fscale,fscale))\n",
    "        axes = [sax]\n",
    "    for i, ax in enumerate(axes):\n",
    "        data = _data[i]\n",
    "        ax.plot(data.loc[:,'head_x'], data.loc[:,'head_y'], 'k-', lw=1)\n",
    "        ax.axis(\"equal\")\n",
    "        ax.axis(\"off\")\n",
    "        ax.set_title(possible_sessions[i]+\":\", fontsize=24, fontweight='bold', loc='left')\n",
    "    return fig, axes"
   ]
  },
  {
   "cell_type": "code",
   "execution_count": null,
   "metadata": {
    "ExecuteTime": {
     "end_time": "2017-10-04T08:18:11.306243",
     "start_time": "2017-10-04T08:17:16.947Z"
    },
    "collapsed": false,
    "slideshow": {
     "slide_type": "fragment"
    }
   },
   "outputs": [],
   "source": [
    "# plot 2d trajectory\n",
    "fig, axes = plot_2d(preview_data)"
   ]
  },
  {
   "cell_type": "code",
   "execution_count": null,
   "metadata": {
    "ExecuteTime": {
     "end_time": "2017-10-04T08:18:11.307207",
     "start_time": "2017-10-04T08:17:16.966Z"
    },
    "collapsed": true,
    "slideshow": {
     "slide_type": "slide"
    }
   },
   "outputs": [],
   "source": [
    "def plot_2d_patches(_data, add_numb=[True, False]):\n",
    "    fig, axes = plot_2d(_data)\n",
    "    ### add food spots\n",
    "    # colors (1: orange 2: blue, 3: white)\n",
    "    patch_color = {1: '#ffc04c', 2: '#4c8bff', 3: '#ffffff'}\n",
    "    for i, ax in enumerate(axes):\n",
    "        # food patch positions (x, y)\n",
    "        patch_positions = db.session(possible_sessions[i]).PatchPositions\n",
    "        # food patch substrate type (1: yeast, 2: sucrose, 3: center/empty)\n",
    "        patch_type = db.session(possible_sessions[i]).SubstrateType\n",
    "        # food patch radius\n",
    "        patch_radius = db.session(possible_sessions[i]).patch_radius\n",
    "        # go through all patches\n",
    "        for j, pos in enumerate(patch_positions):\n",
    "            # get color for given patch\n",
    "            c = patch_color[patch_type[j]]\n",
    "            # define circle at position \"pos\" with radius \"patch_radius\"\n",
    "            circle = plt.Circle(pos, patch_radius, color=c, alpha=0.5, zorder=5)\n",
    "            # add circle to axis artist (draws the circle)\n",
    "            ax.add_artist(circle)\n",
    "            # also add text to circle\n",
    "            if add_numb[i]:\n",
    "                ax.text(pos[0],pos[1], str(j), zorder=6, color=\"#FF2965\", fontsize=28, fontweight='bold', clip_on=True)\n",
    "    return fig, axes"
   ]
  },
  {
   "cell_type": "code",
   "execution_count": null,
   "metadata": {
    "ExecuteTime": {
     "end_time": "2017-10-04T08:18:11.308113",
     "start_time": "2017-10-04T08:17:16.977Z"
    },
    "collapsed": false,
    "slideshow": {
     "slide_type": "fragment"
    }
   },
   "outputs": [],
   "source": [
    "# plot 2d trajectory with color patches\n",
    "fig, axes = plot_2d_patches(preview_data)"
   ]
  },
  {
   "cell_type": "code",
   "execution_count": null,
   "metadata": {
    "ExecuteTime": {
     "end_time": "2017-10-04T08:18:11.309725",
     "start_time": "2017-10-04T08:17:16.989Z"
    },
    "collapsed": true,
    "slideshow": {
     "slide_type": "slide"
    }
   },
   "outputs": [],
   "source": [
    "def plot_2d_patches_zoom(_data, _zoom):\n",
    "    fig, axes = plot_2d_patches(_data)\n",
    "    zoom = _zoom\n",
    "    offsetx = 15\n",
    "    offsety = -18\n",
    "    for ax in axes:\n",
    "        ax.set_xlim([-zoom+offsetx, zoom+offsetx])\n",
    "        ax.set_ylim([-zoom+offsety, zoom+offsety])\n",
    "    return fig, axes"
   ]
  },
  {
   "cell_type": "code",
   "execution_count": null,
   "metadata": {
    "ExecuteTime": {
     "end_time": "2017-10-04T08:18:11.311762",
     "start_time": "2017-10-04T08:17:16.999Z"
    },
    "collapsed": false,
    "slideshow": {
     "slide_type": "fragment"
    }
   },
   "outputs": [],
   "source": [
    "# plot zoomed 2d trajectory with color patches\n",
    "fig, axes = plot_2d_patches_zoom(preview_data, 90)"
   ]
  },
  {
   "cell_type": "markdown",
   "metadata": {},
   "source": [
    "<a id='section2.3'></a>\n",
    "### C) Identifying the winner"
   ]
  },
  {
   "cell_type": "code",
   "execution_count": null,
   "metadata": {
    "ExecuteTime": {
     "end_time": "2017-10-04T08:18:11.313749",
     "start_time": "2017-10-04T08:17:17.027Z"
    },
    "collapsed": true
   },
   "outputs": [],
   "source": [
    "# cut data down to 3 mins (180 s * 50 frames/s = 9000 frames)\n",
    "chosen = 1\n",
    "start = 56100\n",
    "end = start + 9000\n",
    "short_data = [preview_data[chosen].loc[start:end,:]]"
   ]
  },
  {
   "cell_type": "code",
   "execution_count": null,
   "metadata": {
    "ExecuteTime": {
     "end_time": "2017-10-04T08:18:11.315666",
     "start_time": "2017-10-04T08:17:17.039Z"
    },
    "collapsed": false,
    "slideshow": {
     "slide_type": "slide"
    }
   },
   "outputs": [],
   "source": [
    "# plot zoomed 2d trajectory with color patches for given duration of time\n",
    "fig, axes = plot_2d_patches_zoom(short_data, 90)\n",
    "axes[0].set_title(possible_sessions[chosen]+\":\", fontweight='bold', loc='left', x=-0.3, y=1.05)"
   ]
  },
  {
   "cell_type": "markdown",
   "metadata": {},
   "source": [
    "<a id='section3'></a>\n",
    "## 3. Data Analysis"
   ]
  },
  {
   "cell_type": "markdown",
   "metadata": {
    "slideshow": {
     "slide_type": "slide"
    }
   },
   "source": [
    "<a id='section3.1'></a>\n",
    "### A) Loading raw data and meta data"
   ]
  },
  {
   "cell_type": "code",
   "execution_count": null,
   "metadata": {
    "ExecuteTime": {
     "end_time": "2017-10-04T08:18:11.317752",
     "start_time": "2017-10-04T08:17:17.070Z"
    },
    "collapsed": true,
    "slideshow": {
     "slide_type": "subslide"
    }
   },
   "outputs": [],
   "source": [
    "# load session\n",
    "this_session = db.session('CANS_005')\n",
    "# load raw data and meta data\n",
    "raw_data, meta_data = this_session.load()\n",
    "# Start and end time (plotting for 1C & D only needed for that time window)\n",
    "start = 56100\n",
    "end = start + 9000\n",
    "dt = 1/meta_data.framerate\n",
    "#raw_data = raw_data.loc[start:end,:] # problems with Gaussian filtering (boundary value problems)"
   ]
  },
  {
   "cell_type": "markdown",
   "metadata": {},
   "source": [
    "<a id='section3.2'></a>\n",
    "### B) Preprocessing"
   ]
  },
  {
   "cell_type": "code",
   "execution_count": null,
   "metadata": {
    "ExecuteTime": {
     "end_time": "2017-10-04T08:18:11.319417",
     "start_time": "2017-10-04T08:17:17.089Z"
    },
    "collapsed": false
   },
   "outputs": [],
   "source": [
    "# plot zoomed 2d trajectory with color patches for given duration of time\n",
    "plt.plot(raw_data.loc[start:end,'head_x'], raw_data.loc[start:end,'head_y'], 'k-', lw=1)\n",
    "plt.axis(\"equal\")\n",
    "sns.despine()"
   ]
  },
  {
   "cell_type": "code",
   "execution_count": null,
   "metadata": {
    "ExecuteTime": {
     "end_time": "2017-10-04T08:18:11.321016",
     "start_time": "2017-10-04T08:17:17.103Z"
    },
    "collapsed": true,
    "slideshow": {
     "slide_type": "fragment"
    }
   },
   "outputs": [],
   "source": [
    "## STEP 1: NaN removal + interpolation + px-to-mm conversion\n",
    "clean_data = prep.interpolate(raw_data)\n",
    "clean_data = prep.to_mm(clean_data, meta_data.px2mm)"
   ]
  },
  {
   "cell_type": "code",
   "execution_count": null,
   "metadata": {
    "ExecuteTime": {
     "end_time": "2017-10-04T08:18:11.322558",
     "start_time": "2017-10-04T08:17:17.115Z"
    },
    "collapsed": false,
    "slideshow": {
     "slide_type": "skip"
    }
   },
   "outputs": [],
   "source": [
    "# plot zoomed 2d trajectory with color patches for given duration of time\n",
    "plt.plot(clean_data.loc[start:end,'head_x'], clean_data.loc[start:end,'head_y'], 'k-', lw=1)\n",
    "plt.axis(\"equal\")\n",
    "sns.despine()"
   ]
  },
  {
   "cell_type": "code",
   "execution_count": null,
   "metadata": {
    "ExecuteTime": {
     "end_time": "2017-10-04T08:18:11.324032",
     "start_time": "2017-10-04T08:17:17.126Z"
    },
    "collapsed": true
   },
   "outputs": [],
   "source": [
    "## STEP 2: Gaussian filtering\n",
    "window_len = 16 # = 0.32 s\n",
    "smoothed_data = prep.gaussian_filter(clean_data, _len=window_len, _sigma=window_len/10)"
   ]
  },
  {
   "cell_type": "code",
   "execution_count": null,
   "metadata": {
    "ExecuteTime": {
     "end_time": "2017-10-04T08:18:11.325623",
     "start_time": "2017-10-04T08:17:17.137Z"
    },
    "collapsed": false
   },
   "outputs": [],
   "source": [
    "# plot zoomed 2d trajectory with color patches for given duration of time\n",
    "plt.plot(smoothed_data.loc[start:end,'head_x'], smoothed_data.loc[start:end,'head_y'], 'k-', lw=1)\n",
    "plt.axis(\"equal\")\n",
    "sns.despine()"
   ]
  },
  {
   "cell_type": "markdown",
   "metadata": {},
   "source": [
    "<a id='section3.3'></a>\n",
    "### C) Distance from patch\n",
    "\n",
    "#### GOAL: \n",
    "> Recreating time series plot for distance to patch (patch 0) and line annotations of the distance thresholds (2.5 and 5 mm).\n",
    "\n",
    "<img src=\"./img/ori-fig1ci.png\" width=\"600\" height=\"126\">"
   ]
  },
  {
   "cell_type": "code",
   "execution_count": null,
   "metadata": {
    "ExecuteTime": {
     "end_time": "2017-10-04T08:18:11.327178",
     "start_time": "2017-10-04T08:17:17.157Z"
    },
    "collapsed": true
   },
   "outputs": [],
   "source": [
    "## STEP 3: Distance from patch\n",
    "kinematics = Kinematics(db)\n",
    "distance_patch = kinematics.distance_to_patch(clean_data[['head_x', 'head_y']], meta_data)"
   ]
  },
  {
   "cell_type": "code",
   "execution_count": null,
   "metadata": {
    "ExecuteTime": {
     "end_time": "2017-10-04T08:18:11.328606",
     "start_time": "2017-10-04T08:17:17.171Z"
    },
    "collapsed": false
   },
   "outputs": [],
   "source": [
    "## arange time as a vector\n",
    "time = np.arange(start*dt,(end+1)*dt,dt)\n",
    "## new figure\n",
    "plt.figure(figsize=(10,2))\n",
    "## plotting data for distance to patch 0\n",
    "plt.plot(time, distance_patch.loc[start:end,'dist_patch_0'], 'k-', lw=1)\n",
    "## lines annotation\n",
    "plt.hlines(5, time[0], time[-1], colors='#bbbbbb', linestyles='--', lw=2)\n",
    "plt.hlines(2.5, time[0], time[-1], colors='#bbbbbb', linestyles='--', lw=2)\n",
    "plt.text(time[-1]+7, 5, \"5 mm\", color='#bbbbbb', fontsize=16, fontweight='bold')\n",
    "plt.text(time[-1]+2, 0, \"2.5 mm\", color='#bbbbbb', fontsize=16, fontweight='bold')\n",
    "## axes labels\n",
    "plt.xlabel(\"Time [s]\")\n",
    "plt.ylabel(\"Distance to Patch 0 [mm]\")\n",
    "## despined axes looks nicer\n",
    "sns.despine()"
   ]
  },
  {
   "cell_type": "markdown",
   "metadata": {},
   "source": [
    "Compared to the original plot, we seemed to have the same result. Note that the original plot has a broken y-axis with different scales, which we will add later on.\n",
    "\n",
    "<img src=\"./img/ori-fig1ci.png\" width=\"600\" height=\"126\">"
   ]
  },
  {
   "cell_type": "markdown",
   "metadata": {},
   "source": [
    "<a id='section3.4'></a>\n",
    "### D) Linear speeds\n",
    "\n",
    "#### GOAL: \n",
    "> Recreating time series plot for body and head linear speeds and line annotations of the speed thresholds (0.2 mm and 2 mm).\n",
    "\n",
    "<img src=\"./img/ori-fig1cii.jpg\" width=\"600\" height=\"125\">"
   ]
  },
  {
   "cell_type": "code",
   "execution_count": null,
   "metadata": {
    "ExecuteTime": {
     "end_time": "2017-10-04T08:18:11.329936",
     "start_time": "2017-10-04T08:17:17.199Z"
    },
    "collapsed": false
   },
   "outputs": [],
   "source": [
    "## STEP 4: Linear Speed\n",
    "speed = kinematics.linear_speed(smoothed_data, meta_data)\n",
    "window_len = 60 # = 1.2 s\n",
    "smooth_speed = prep.gaussian_filter(speed, _len=window_len, _sigma=window_len/10)\n",
    "window_len = 120 # = 1.2 s\n",
    "smoother_speed = prep.gaussian_filter(smooth_speed, _len=window_len, _sigma=window_len/10)\n",
    "speeds = pd.DataFrame({\"head\": smooth_speed[\"head_speed\"], \"body\": smooth_speed[\"body_speed\"], \"smoother_head\": smoother_speed[\"head_speed\"]})\n",
    "print(speeds.head(10))"
   ]
  },
  {
   "cell_type": "code",
   "execution_count": null,
   "metadata": {
    "ExecuteTime": {
     "end_time": "2017-10-04T08:18:11.331365",
     "start_time": "2017-10-04T08:17:17.214Z"
    },
    "collapsed": false
   },
   "outputs": [],
   "source": [
    "## new figure\n",
    "plt.figure(figsize=(10,2))\n",
    "## plotting data for head speeds as blue solid line\n",
    "plt.plot(time, speeds.loc[start:end,'head'], 'b-', lw=1, label='Head')\n",
    "## plotting data for body speeds as black solid line\n",
    "plt.plot(time, speeds.loc[start:end,'body'], 'k-', lw=1, label='Body')\n",
    "## add legend\n",
    "plt.legend()\n",
    "## lines annotation\n",
    "plt.hlines(2, time[0], time[-1]+10, colors='#bbbbbb', linestyles='--', lw=2, clip_on=False)\n",
    "plt.hlines(0.2, time[0], time[-1]+10, colors='#bbbbbb', linestyles='--', lw=2, clip_on=False)\n",
    "plt.text(time[-1]+14, 2, \"2 mm\", color='#bbbbbb', fontsize=16, fontweight='bold')\n",
    "plt.text(time[-1]+14, -1, \"0.2 mm\", color='#bbbbbb', fontsize=16, fontweight='bold')\n",
    "## axes labels\n",
    "plt.xlabel(\"Time [s]\")\n",
    "plt.ylabel(\"Linear speed [mm/s]\")\n",
    "plt.xlim([time[0],time[-1]])\n",
    "#plt.ylim([0,20])\n",
    "## despined axes looks nicer\n",
    "sns.despine()"
   ]
  },
  {
   "cell_type": "markdown",
   "metadata": {},
   "source": [
    "<img src=\"./img/ori-fig1cii.jpg\" width=\"600\" height=\"125\">"
   ]
  },
  {
   "cell_type": "markdown",
   "metadata": {},
   "source": [
    "<a id='section3.5'></a>\n",
    "### E) Angular heading and speed"
   ]
  },
  {
   "cell_type": "code",
   "execution_count": null,
   "metadata": {
    "ExecuteTime": {
     "end_time": "2017-10-04T08:18:11.332984",
     "start_time": "2017-10-04T08:17:17.242Z"
    },
    "collapsed": true
   },
   "outputs": [],
   "source": [
    "## STEP 5: Angular Heading & Speed\n",
    "angular_heading = kinematics.head_angle(smoothed_data)\n",
    "angular_speed = kinematics.angular_speed(angular_heading, meta_data)"
   ]
  },
  {
   "cell_type": "code",
   "execution_count": null,
   "metadata": {
    "ExecuteTime": {
     "end_time": "2017-10-04T08:18:11.334685",
     "start_time": "2017-10-04T08:17:17.257Z"
    },
    "collapsed": false
   },
   "outputs": [],
   "source": [
    "## new figure\n",
    "plt.figure(figsize=(10,2))\n",
    "## plotting data for angular speeds as black solid line\n",
    "plt.plot(time, angular_speed.loc[start:end,:], 'k-', lw=1)\n",
    "## lines annotation\n",
    "plt.hlines(125, time[0], time[-1]+10, colors='#bbbbbb', linestyles='--', lw=2, clip_on=False)\n",
    "plt.hlines(-125, time[0], time[-1]+10, colors='#bbbbbb', linestyles='--', lw=2, clip_on=False)\n",
    "plt.text(time[-1]+14, 125-40, \"125 $^\\circ$/s\", color='#bbbbbb', fontsize=16, fontweight='bold')\n",
    "plt.text(time[-1]+14, -125-40, \"-125 $^\\circ$/s\", color='#bbbbbb', fontsize=16, fontweight='bold')\n",
    "## axes labels\n",
    "plt.xlabel(\"Time [s]\")\n",
    "plt.ylabel(\"Angular\\nspeed\\n[$^\\circ$/s]\")\n",
    "plt.xlim([time[0],time[-1]])\n",
    "## despined axes looks nicer\n",
    "plt.yticks(np.arange(-400, 401,200))\n",
    "sns.despine(bottom=True)"
   ]
  },
  {
   "cell_type": "markdown",
   "metadata": {},
   "source": [
    "<img src=\"./img/ori-fig1ciii.jpg\" width=\"600\" height=\"125\">"
   ]
  },
  {
   "cell_type": "markdown",
   "metadata": {},
   "source": [
    "<a id='section3.6'></a>\n",
    "### F) Ethogram"
   ]
  },
  {
   "cell_type": "code",
   "execution_count": null,
   "metadata": {
    "ExecuteTime": {
     "end_time": "2017-10-04T08:18:11.336350",
     "start_time": "2017-10-04T08:17:17.292Z"
    },
    "collapsed": false,
    "slideshow": {
     "slide_type": "skip"
    }
   },
   "outputs": [],
   "source": [
    "## STEP 6: Ethogram classification\n",
    "etho_dict = {   0: \"resting\",\n",
    "                1: \"micromovement\",\n",
    "                2: \"walking\",\n",
    "                3: \"sharp turn\",\n",
    "                4: \"yeast micromovement\",\n",
    "                5: \"sucrose micromovement\"}\n",
    "meta_data.dict[\"etho_class\"] = etho_dict\n",
    "etho_vector, visits = kinematics.ethogram(speeds, angular_speed, distance_patch, meta_data)\n",
    "for frame, each in enumerate(etho_vector.loc[0:5,'etho']):\n",
    "    print(\"Frame no. {}:\\t\".format(frame),int(each), \"->\", etho_dict[int(each)])"
   ]
  },
  {
   "cell_type": "code",
   "execution_count": null,
   "metadata": {
    "ExecuteTime": {
     "end_time": "2017-10-04T08:18:11.337844",
     "start_time": "2017-10-04T08:17:17.306Z"
    },
    "collapsed": false
   },
   "outputs": [],
   "source": [
    "## new figure\n",
    "plt.figure(figsize=(10,1))\n",
    "## colors for ethogram\n",
    "colors = ['#ffffff', '#c97aaa', '#5bd5ff', '#04bf11', '#f0e442', '#000000']\n",
    "## plotting data for angular speeds as black solid line\n",
    "data = np.array(etho_vector.loc[start:end,'etho'])\n",
    "dy = 0.5\n",
    "for ic, col in enumerate(colors):\n",
    "    plt.vlines(time[data==ic],-dy,dy, colors=col, lw=0.5)\n",
    "\n",
    "## axes labels\n",
    "plt.xlabel(\"Time [s]\")\n",
    "plt.xlim([time[0],time[-1]])\n",
    "## despined axes looks nicer & ethogram does not need y-axis\n",
    "ax = plt.gca()\n",
    "ax.get_yaxis().set_ticks([])\n",
    "plt.ylabel(\"Etho-\\ngram\")\n",
    "sns.despine(left=True)"
   ]
  },
  {
   "cell_type": "markdown",
   "metadata": {},
   "source": [
    "<img src=\"./img/ori-fig1civ.png\" width=\"600\" height=\"125\">"
   ]
  },
  {
   "cell_type": "markdown",
   "metadata": {},
   "source": [
    "<a id='section3.7'></a>\n",
    "### G) Visits"
   ]
  },
  {
   "cell_type": "code",
   "execution_count": null,
   "metadata": {
    "ExecuteTime": {
     "end_time": "2017-10-04T08:18:11.339418",
     "start_time": "2017-10-04T08:17:17.336Z"
    },
    "collapsed": false
   },
   "outputs": [],
   "source": [
    "## new figure\n",
    "plt.figure(figsize=(6,1))\n",
    "## colors for ethogram\n",
    "colors = ['#ffffff', '#ffc04c', '#4c8bff']\n",
    "## plotting data for angular speeds as black solid line\n",
    "data = np.array(visits.loc[start:end,'visits'])\n",
    "dy = 0.5\n",
    "for ic, col in enumerate(colors):\n",
    "    plt.vlines(time[data==ic],-dy,dy, colors=col, lw=0.5)\n",
    "\n",
    "## axes labels\n",
    "plt.xlabel(\"Time [s]\")\n",
    "plt.xlim([time[0],time[-1]])\n",
    "#plt.vlines(1143.52,-dy,dy, colors='#FF2965', linestyles='-', lw=0.5)\n",
    "#plt.vlines(1147.74,-dy,dy, colors='#FF2965', linestyles='-', lw=0.5)\n",
    "#plt.vlines(1165.72,-dy,dy, colors='#FF2965', linestyles='-', lw=0.5)\n",
    "#plt.vlines(1166.98,-dy,dy, colors='#FF2965', linestyles='-', lw=0.5)\n",
    "## despined axes looks nicer & ethogram does not need y-axis\n",
    "ax = plt.gca()\n",
    "ax.get_yaxis().set_ticks([])\n",
    "plt.ylabel(\"Food\\npatch\\nvisits\")\n",
    "sns.despine(left=True)"
   ]
  },
  {
   "cell_type": "markdown",
   "metadata": {},
   "source": [
    "<img src=\"./img/ori-fig1cv.jpg\" width=\"600\" height=\"125\">"
   ]
  },
  {
   "cell_type": "code",
   "execution_count": null,
   "metadata": {
    "ExecuteTime": {
     "end_time": "2017-10-04T08:18:11.340984",
     "start_time": "2017-10-04T08:17:17.359Z"
    },
    "collapsed": false
   },
   "outputs": [],
   "source": [
    "## new figure\n",
    "f = plt.figure(figsize=(10,2))\n",
    "## plotting data for distance to patch 3\n",
    "plt.plot(time, distance_patch.loc[start:end,'dist_patch_3'], 'r-', lw=1, label='Patch  3')\n",
    "## plotting data for distance to patch 5\n",
    "plt.plot(time, distance_patch.loc[start:end,'dist_patch_5'], 'g-', lw=1, label='Patch  5')\n",
    "plt.legend(loc='lower left', bbox_to_anchor=(1, 0.5))\n",
    "## lines annotation\n",
    "plt.hlines(5, time[0], time[-1], colors='#bbbbbb', linestyles='--', lw=2)\n",
    "plt.hlines(2.5, time[0], time[-1], colors='#bbbbbb', linestyles='--', lw=2)\n",
    "plt.text(time[-1]+7, 5, \"5 mm\", color='#bbbbbb', fontsize=16, fontweight='bold')\n",
    "plt.text(time[-1]+2, 0, \"2.5 mm\", color='#bbbbbb', fontsize=16, fontweight='bold')\n",
    "## axes labels\n",
    "plt.xlabel(\"Time [s]\")\n",
    "plt.ylabel(\"Distance to Patch 0 [mm]\")\n",
    "#plt.xlim([1140,1150])\n",
    "## despined axes looks nicer\n",
    "sns.despine()"
   ]
  },
  {
   "cell_type": "code",
   "execution_count": null,
   "metadata": {
    "ExecuteTime": {
     "end_time": "2017-10-04T08:18:11.342499",
     "start_time": "2017-10-04T08:17:17.373Z"
    },
    "collapsed": false
   },
   "outputs": [],
   "source": [
    "## find out threshold passing for distance to patch 3\n",
    "print(\"start of 3:\", dt*distance_patch.loc[start:end].query(\"dist_patch_3<2.5\").index.tolist()[0])\n",
    "print(\"end of 3:\", dt*distance_patch.loc[57176:end].query(\"dist_patch_3>5\").index.tolist()[0])\n",
    "## find out threshold passing for distance to patch 5\n",
    "print(\"start of 5:\", dt*distance_patch.loc[start:end].query(\"dist_patch_5<2.5\").index.tolist()[0])\n",
    "print(\"end of 5:\", dt*distance_patch.loc[58286:end].query(\"dist_patch_5>5\").index.tolist()[0])"
   ]
  },
  {
   "cell_type": "code",
   "execution_count": null,
   "metadata": {
    "ExecuteTime": {
     "end_time": "2017-10-04T08:18:11.344063",
     "start_time": "2017-10-04T08:17:17.394Z"
    },
    "collapsed": false
   },
   "outputs": [],
   "source": [
    "## new figure\n",
    "f = plt.figure(figsize=(10,2))\n",
    "## plotting data for distance to patch 3\n",
    "plt.plot(time, distance_patch.loc[start:end,'dist_patch_3'], 'r-', lw=1, label='Patch  3')\n",
    "## plotting data for distance to patch 5\n",
    "plt.plot(time, distance_patch.loc[start:end,'dist_patch_5'], 'g-', lw=1, label='Patch  5')\n",
    "plt.legend(loc='lower left', bbox_to_anchor=(1, 0.5))\n",
    "## lines annotation\n",
    "plt.hlines(5, time[0], time[-1], colors='#bbbbbb', linestyles='--', lw=2)\n",
    "plt.hlines(2.5, time[0], time[-1], colors='#bbbbbb', linestyles='--', lw=2)\n",
    "plt.text(time[-1]+7, 5, \"5 mm\", color='#bbbbbb', fontsize=16, fontweight='bold')\n",
    "plt.text(time[-1]+2, 0, \"2.5 mm\", color='#bbbbbb', fontsize=16, fontweight='bold')\n",
    "## vertical lines for visits\n",
    "plt.vlines(1143.52, 0, 20, colors='#4c8bff', linestyles='dotted', lw=2)\n",
    "plt.vlines(1147.74, 0, 20, colors='#4c8bff', linestyles='dotted', lw=2)\n",
    "plt.vlines(1165.72, 0, 20, colors='#4c8bff', linestyles='dotted', lw=2)\n",
    "plt.vlines(1166.98, 0, 20, colors='#4c8bff', linestyles='dotted', lw=2)\n",
    "## axes labels\n",
    "plt.xlabel(\"Time [s]\")\n",
    "plt.ylabel(\"Distance to Patch 0 [mm]\")\n",
    "#plt.xlim([1140,1170])\n",
    "#plt.xticks(np.arange(1140,1171,5))\n",
    "#plt.minorticks_on()\n",
    "## despined axes looks nicer\n",
    "sns.despine()"
   ]
  },
  {
   "cell_type": "markdown",
   "metadata": {},
   "source": [
    "<a id='section3.8'></a>\n",
    "### H) Loading ethogram data from multiple sessions"
   ]
  },
  {
   "cell_type": "code",
   "execution_count": null,
   "metadata": {
    "ExecuteTime": {
     "end_time": "2017-10-04T08:18:11.345712",
     "start_time": "2017-10-04T08:17:17.418Z"
    },
    "collapsed": false
   },
   "outputs": [],
   "source": [
    "### Data for E-H\n",
    "only_metab =  [\"AA+ rich\"]\n",
    "only_gene = [\"Canton S\"]\n",
    "group = db.experiment(\"CANS\").select(genotype=only_gene, metabolic=only_metab)\n",
    "\n",
    "### all session in that group\n",
    "num_mated, num_virgins = db.experiment(\"CANS\").count(only_gene, ['Mated', 'Virgin'], only_metab)\n",
    "kinematics.print_header = True\n",
    "\n",
    "etho_data = {}\n",
    "for session in group:\n",
    "    etho, visits = kinematics.run(session.name, _VERBOSE=True)\n",
    "    etho_data[session.name] = etho['etho']\n",
    "etho_data = pd.DataFrame(etho_data)\n",
    "for i, metab in enumerate(only_metab):\n",
    "    for gene in only_gene:\n",
    "        print( \"Analyzed {2} mated {0} females and {3} virgin {0} females [genotype: {1}]\".format(metab, gene, int(num_mated[i]), int(num_virgins[i])) )"
   ]
  },
  {
   "cell_type": "code",
   "execution_count": null,
   "metadata": {
    "ExecuteTime": {
     "end_time": "2017-10-04T08:18:11.347557",
     "start_time": "2017-10-04T08:17:17.429Z"
    },
    "collapsed": false
   },
   "outputs": [],
   "source": [
    "print(etho_data.tail(5))"
   ]
  },
  {
   "cell_type": "markdown",
   "metadata": {},
   "source": [
    "<a id='section3.9'></a>\n",
    "### I) Durations of behavioral segments"
   ]
  },
  {
   "cell_type": "markdown",
   "metadata": {},
   "source": [
    "<a id='section4'></a>\n",
    "## 4) Data visualization"
   ]
  },
  {
   "cell_type": "markdown",
   "metadata": {},
   "source": [
    "<a id='section5'></a>\n",
    "## 5) Closing remarks"
   ]
  },
  {
   "cell_type": "code",
   "execution_count": null,
   "metadata": {
    "ExecuteTime": {
     "end_time": "2017-10-04T08:18:11.349414",
     "start_time": "2017-10-04T08:17:17.462Z"
    },
    "collapsed": false,
    "slideshow": {
     "slide_type": "skip"
    }
   },
   "outputs": [],
   "source": [
    "# closing and printing out last logging\n",
    "log.close()\n",
    "log.show()"
   ]
  },
  {
   "cell_type": "code",
   "execution_count": null,
   "metadata": {
    "collapsed": true
   },
   "outputs": [],
   "source": []
  }
 ],
 "metadata": {
  "kernelspec": {
   "display_name": "Python 3",
   "language": "python",
   "name": "python3"
  },
  "language_info": {
   "codemirror_mode": {
    "name": "ipython",
    "version": 3
   },
   "file_extension": ".py",
   "mimetype": "text/x-python",
   "name": "python",
   "nbconvert_exporter": "python",
   "pygments_lexer": "ipython3",
   "version": "3.6.1"
  },
  "latex_envs": {
   "bibliofile": "biblio.bib",
   "cite_by": "apalike",
   "current_citInitial": 1,
   "eqLabelWithNumbers": true,
   "eqNumInitial": 0
  }
 },
 "nbformat": 4,
 "nbformat_minor": 2
}
